{
  "nbformat": 4,
  "nbformat_minor": 0,
  "metadata": {
    "colab": {
      "provenance": [],
      "authorship_tag": "ABX9TyPwOU551xFe4AZTaYyM7bt7",
      "include_colab_link": true
    },
    "kernelspec": {
      "name": "python3",
      "display_name": "Python 3"
    },
    "language_info": {
      "name": "python"
    }
  },
  "cells": [
    {
      "cell_type": "markdown",
      "metadata": {
        "id": "view-in-github",
        "colab_type": "text"
      },
      "source": [
        "<a href=\"https://colab.research.google.com/github/muhammadharis356/-PIAIC-AgenticAi-Robotics/blob/main/Assignment_4.ipynb\" target=\"_parent\"><img src=\"https://colab.research.google.com/assets/colab-badge.svg\" alt=\"Open In Colab\"/></a>"
      ]
    },
    {
      "cell_type": "code",
      "execution_count": null,
      "metadata": {
        "id": "jtlxrXSRvBxA"
      },
      "outputs": [],
      "source": [
        "!pip -q install aisuite"
      ]
    },
    {
      "cell_type": "code",
      "source": [
        "!pip -q install 'aisuite[all]'"
      ],
      "metadata": {
        "id": "swGGshqiwjNC"
      },
      "execution_count": null,
      "outputs": []
    },
    {
      "cell_type": "code",
      "source": [
        "from google.colab import userdata\n",
        "#import os\n",
        "anthropic_api_key=userdata.get('anthropic_api_key')\n",
        "groq_api_key=userdata.get('Groq_API_Key')\n",
        "\n",
        "#os.environ['GEMINI_API_KEY'] = gemini_api_key\n",
        "#os.environ['GROQ_API_KEY'] = groq_api_key"
      ],
      "metadata": {
        "id": "24R43C9uxQk_"
      },
      "execution_count": null,
      "outputs": []
    },
    {
      "cell_type": "code",
      "source": [
        "import aisuite as ai\n",
        "client = ai.Client()\n",
        "models = [\"groq:llama-3.3-70b-versatile\", \"groq:deepseek-r1-distill-llama-70b\" ]\n",
        "\n",
        "messages = [\n",
        "    {\"role\": \"system\", \"content\": \"Respond in Pirate English.\"},\n",
        "    {\"role\": \"user\", \"content\": \"Tell me a joke.\"},\n",
        "]\n",
        "\n",
        "for model in models:\n",
        "    response = client.chat.completions.create(\n",
        "        model=model,\n",
        "        messages=messages,\n",
        "        temperature=0.80,\n",
        "        max_tokens=100,\n",
        "    )\n",
        "    print(response.choices[0].message.content)\n"
      ],
      "metadata": {
        "colab": {
          "base_uri": "https://localhost:8080/"
        },
        "id": "Z6qdLHFOxjwr",
        "outputId": "f7718a6a-5306-4c82-be4e-2b7621ca311b"
      },
      "execution_count": null,
      "outputs": [
        {
          "output_type": "stream",
          "name": "stdout",
          "text": [
            "Yer lookin' fer a joke, eh? Alright then, listen close and I'll tell ye one. Why did the barnacle go to the party? Because it was a shell-abration! Arrr, I be hopin' that made ye laugh, matey!\n",
            "<think>\n",
            "Alright, so the user asked me to tell a joke in pirate English. I need to come up with something that fits the pirate theme and is funny. Let me think about pirate-related words and phrases—maybe something about treasure, ships, the sea, or pirate sayings like \"Arrr\" or \"Shiver me timbers.\"\n",
            "\n",
            "Hmm, maybe a pun would work well. Puns are usually good for jokes because they play on words. Let me think of a pirate-related pun\n"
          ]
        }
      ]
    }
  ]
}